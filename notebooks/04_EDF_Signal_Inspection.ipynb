{
 "cells": [
  {
   "cell_type": "markdown",
   "metadata": {},
   "source": [
    "# 4. Comprehensive EDF Signal Inspection (v3)\n",
    "\n",
    "**Objective:** To definitively identify the signals and events contained within each type of `.edf` file. This version uses file-specific loading logic to correctly handle both signal and event files and generates a clean, informative plot."
   ]
  },
  {
   "cell_type": "markdown",
   "metadata": {},
   "source": [
    "## 4.1 Setup and Imports"
   ]
  },
  {
   "cell_type": "code",
   "execution_count": null,
   "metadata": {},
   "outputs": [],
   "source": [
    "import pandas as pd\n",
    "import numpy as np\n",
    "import matplotlib.pyplot as plt\n",
    "import sys\n",
    "import os\n",
    "import mne\n",
    "from IPython.display import display, Markdown\n",
    "\n",
    "# Add src directory to Python path\n",
    "module_path = os.path.abspath(os.path.join('..'))\n",
    "if module_path not in sys.path:\n",
    "    sys.path.append(module_path)\n",
    "\n",
    "from src.data_loader import load_edf_data\n",
    "\n",
    "# Configure plotting\n",
    "plt.rcParams['figure.figsize'] = (20, 14)\n",
    "pd.set_option('display.max_rows', 100)"
   ]
  },
  {
   "cell_type": "markdown",
   "metadata": {},
   "source": [
    "## 4.2 Intelligent Data Loading\n",
    "\n",
    "This cell inspects each file. It loads signal files, cleans them by dropping checksum columns, and specifically loads the `EVE` file as annotations."
   ]
  },
  {
   "cell_type": "code",
   "execution_count": null,
   "metadata": {},
   "outputs": [],
   "source": [
    "# --- Configuration ---\n",
    "DATA_DIR = '../data/2025/'\n",
    "FILE_PATHS = {\n",
    "    'BRP': os.path.join(DATA_DIR, '20250617_023551_BRP.edf'),\n",
    "    'EVE': os.path.join(DATA_DIR, '20250617_023547_EVE.edf'),\n",
    "    'PLD': os.path.join(DATA_DIR, '20250617_023551_PLD.edf'),\n",
    "    'CSL': os.path.join(DATA_DIR, '20250617_023547_CSL.edf')\n",
    "}\n",
    "PLOT_DURATION_S = 30\n",
    "\n",
    "# --- Data Loading ---\n",
    "loaded_signals = {}\n",
    "annotations = None\n",
    "\n",
    "for key, path in FILE_PATHS.items():\n",
    "    display(Markdown(f\"### Processing: `{key}` file\"))\n",
    "    if not os.path.exists(path):\n",
    "        display(Markdown(f\"**Status:** File not found.\"))\n",
    "        print('-'*60)\n",
    "        continue\n",
    "        \n",
    "    if key == 'EVE':\n",
    "        try:\n",
    "            annotations = mne.read_annotations(path)\n",
    "            # Get the start time from the file name to offset annotations\n",
    "            fname = os.path.basename(path)\n",
    "            start_time_str = fname.split('_')[0] + fname.split('_')[1]\n",
    "            session_start_time = pd.to_datetime(start_time_str, format='%Y%m%d%H%M%S')\n",
    "            annotations.onset += session_start_time.timestamp()\n",
    "            display(Markdown(f\"**Success:** Loaded {len(annotations)} events/annotations.\"))\n",
    "            display(annotations[:5])\n",
    "        except Exception as e:\n",
    "            display(Markdown(f\"**Failed:** Could not read annotations: {e}\"))\n",
    "    else:\n",
    "        try:\n",
    "            df = load_edf_data(path)\n",
    "            if df is not None and not df.empty:\n",
    "                # Clean the data: drop checksum columns\n",
    "                cols_to_drop = [c for c in df.columns if 'Crc' in c]\n",
    "                df.drop(columns=cols_to_drop, inplace=True)\n",
    "                \n",
    "                if not df.empty:\n",
    "                    loaded_signals[key] = df\n",
    "                    display(Markdown(f\"**Success:** Loaded as Signal data.\"))\n",
    "                    display(Markdown(f\"**Signals found:** {list(df.columns)}\"))\n",
    "                    display(df.head())\n",
    "                else:\n",
    "                    display(Markdown(f\"**Info:** File contained only checksum signals.\"))\n",
    "            else:\n",
    "                display(Markdown(f\"**Info:** No data loaded from file.\"))\n",
    "        except Exception as e:\n",
    "            display(Markdown(f\"**Failed:** Could not load as signal data: {e}\"))\n",
    "            \n",
    "    print('-'*60)\n"
   ]
  },
  {
   "cell_type": "markdown",
   "metadata": {},
   "source": [
    "## 4.3 Plotting Signals and Events\n",
    "\n",
    "This plot shows each loaded signal group in its own subplot for clarity. Events from the `EVE` file are overlaid on all plots."
   ]
  },
  {
   "cell_type": "code",
   "execution_count": null,
   "metadata": {},
   "outputs": [],
   "source": [
    "if loaded_signals:\n",
    "    # Determine the common time range for plotting\n",
    "    first_timestamp = min(df.index.min() for df in loaded_signals.values())\n",
    "    plot_start_time = first_timestamp\n",
    "    plot_end_time = plot_start_time + pd.Timedelta(seconds=PLOT_DURATION_S)\n",
    "    \n",
    "    num_axes = len(loaded_signals)\n",
    "    fig, axes = plt.subplots(num_axes, 1, figsize=(20, 4 * num_axes), sharex=True)\n",
    "    fig.suptitle(f'First {PLOT_DURATION_S} Seconds of All Signals with Events', fontsize=16)\n",
    "    \n",
    "    for i, (key, df) in enumerate(loaded_signals.items()):\n",
    "        ax = axes[i] if num_axes > 1 else axes\n",
    "        plot_data = df.loc[plot_start_time:plot_end_time]\n",
    "        \n",
    "        plot_data.plot(ax=ax, legend=True)\n",
    "        ax.set_title(f'{key} Signals', fontsize=14)\n",
    "        ax.grid(True, linestyle='--', alpha=0.5)\n",
    "        ax.legend(loc='upper right')\n",
    "        \n",
    "        # Overlay events on this axis\n",
    "        if annotations is not None:\n",
    "            for ann in annotations:\n",
    "                onset = pd.to_datetime(ann['onset'], unit='s')\n",
    "                duration = pd.to_timedelta(ann['duration'], unit='s')\n",
    "                if plot_start_time <= onset < plot_end_time:\n",
    "                    ax.axvspan(onset, onset + duration, color='#d62728', alpha=0.2, zorder=0, label='_nolegend_')\n",
    "                    ax.text(onset, ax.get_ylim()[1] * 0.95, ann['description'], rotation=75, verticalalignment='top', fontsize=10)\n",
    "    \n",
    "    plt.xlabel('Time', fontsize=12)\n",
    "    plt.xlim(plot_start_time, plot_end_time)\n",
    "    plt.tight_layout(rect=[0, 0, 1, 0.97])\n",
    "    plt.show()\n",
    "else:\n",
    "    print(\"No signal data was successfully loaded to plot.\")"
   ]
  }
 ],
 "metadata": {
  "kernelspec": {
   "display_name": "base",
   "language": "python",
   "name": "python3"
  },
  "language_info": {
   "codemirror_mode": {
    "name": "ipython",
    "version": 3
   },
   "file_extension": ".py",
   "mimetype": "text/x-python",
   "name": "python",
   "nbconvert_exporter": "python",
   "pygments_lexer": "ipython3",
   "version": "3.13.2"
  }
 },
 "nbformat": 4,
 "nbformat_minor": 2
}