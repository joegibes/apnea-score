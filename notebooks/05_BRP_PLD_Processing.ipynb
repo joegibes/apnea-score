{
 "cells": [
  {
   "cell_type": "markdown",
   "metadata": {},
   "source": [
    "# 5. BRP and PLD Signal Processing\n",
    "\n",
    "**Objective:** Develop a structured workflow to load, align, and merge the primary signals from the `_BRP.edf` and `_PLD.edf` files. This notebook moves from exploration to creating a reusable data processing pipeline for feature engineering."
   ]
  },
  {
   "cell_type": "markdown",
   "metadata": {},
   "source": [
    "## 5.1 Setup and Imports"
   ]
  },
  {
   "cell_type": "code",
   "execution_count": null,
   "metadata": {},
   "outputs": [],
   "source": [
    "import pandas as pd\n",
    "import numpy as np\n",
    "import matplotlib.pyplot as plt\n",
    "import sys\n",
    "import os\n",
    "import mne\n",
    "from IPython.display import display, Markdown\n",
    "\n",
    "# Add src directory to Python path\n",
    "module_path = os.path.abspath(os.path.join('..'))\n",
    "if module_path not in sys.path:\n",
    "    sys.path.append(module_path)\n",
    "\n",
    "from src.data_loader import load_edf_data\n",
    "\n",
    "# Configure plotting\n",
    "plt.rcParams['figure.figsize'] = (20, 8)\n",
    "pd.set_option('display.max_rows', 100)"
   ]
  },
  {
   "cell_type": "markdown",
   "metadata": {},
   "source": [
    "## 5.2 Data Loading and Merging Function\n",
    "\n",
    "This function encapsulates the logic for processing a single sleep study session. It finds the relevant `BRP` and `PLD` files, loads them, selects the essential signals, and merges them into a single, time-aligned DataFrame."
   ]
  },
  {
   "cell_type": "code",
   "execution_count": null,
   "metadata": {},
   "outputs": [],
   "source": [
    "def load_and_merge_session_data(base_path, session_timestamp):\n",
    "    \"\"\"\n",
    "    Loads, cleans, and merges BRP and PLD data for a specific session.\n",
    "\n",
    "    Args:\n",
    "        base_path (str): The directory containing the data files.\n",
    "        session_timestamp (str): The timestamp identifier for the session (e.g., '20250617_023551').\n",
    "\n",
    "    Returns:\n",
    "        pd.DataFrame: A merged DataFrame containing the relevant signals,\n",
    "                      or None if essential files are not found.\n",
    "    \"\"\"\n",
    "    file_paths = {\n",
    "        'BRP': os.path.join(base_path, f\"{session_timestamp}_BRP.edf\"),\n",
    "        'PLD': os.path.join(base_path, f\"{session_timestamp}_PLD.edf\")\n",
    "    }\n",
    "\n",
    "    # Check for file existence\n",
    "    if not os.path.exists(file_paths['BRP']) or not os.path.exists(file_paths['PLD']):\n",
    "        print(f\"Error: Data files for session {session_timestamp} not found.\")\n",
    "        return None\n",
    "\n",
    "    # Load BRP data and select the 'Flow' signal\n",
    "    df_brp = load_edf_data(file_paths['BRP'])\n",
    "    if df_brp is None or 'Flow.40ms' not in df_brp.columns:\n",
    "        print(f\"Error: 'Flow.40ms' not found in {file_paths['BRP']}\")\n",
    "        return None\n",
    "    df_flow = df_brp[['Flow.40ms']].copy()\n",
    "\n",
    "    # Load PLD data\n",
    "    df_pld = load_edf_data(file_paths['PLD'])\n",
    "    if df_pld is None:\n",
    "        print(f\"Error: Could not load data from {file_paths['PLD']}\")\n",
    "        return None\n",
    "        \n",
    "    # Clean PLD data by removing checksum columns\n",
    "    cols_to_drop = [c for c in df_pld.columns if 'Crc' in c]\n",
    "    df_pld.drop(columns=cols_to_drop, inplace=True)\n",
    "\n",
    "    # Merge the dataframes\n",
    "    # We use an outer join and forward-fill to handle potential minor misalignments\n",
    "    # in timestamps between the two files.\n",
    "    merged_df = pd.merge(df_flow, df_pld, left_index=True, right_index=True, how='outer')\n",
    "    merged_df.ffill(inplace=True)\n",
    "    merged_df.dropna(inplace=True) # Drop any remaining NaNs at the beginning\n",
    "\n",
    "    print(f\"Successfully loaded and merged data for session {session_timestamp}\")\n",
    "    return merged_df"
   ]
  },
  {
   "cell_type": "markdown",
   "metadata": {},
   "source": [
    "## 5.3 Process a Sample Session\n",
    "\n",
    "Let's test the function with a sample session and inspect the resulting DataFrame."
   ]
  },
  {
   "cell_type": "code",
   "execution_count": null,
   "metadata": {},
   "outputs": [],
   "source": [
    "# --- Configuration ---\n",
    "DATA_DIR = '../data/2025/'\n",
    "SESSION_ID = '20250617_023551' # Using the same session from the previous notebook\n",
    "\n",
    "# --- Processing ---\n",
    "session_df = load_and_merge_session_data(DATA_DIR, SESSION_ID)\n",
    "\n",
    "if session_df is not None:\n",
    "    display(Markdown(\"### Merged DataFrame Info\"))\n",
    "    session_df.info()\n",
    "    display(Markdown(\"### Merged DataFrame Head\"))\n",
    "    display(session_df.head())"
   ]
  },
  {
   "cell_type": "markdown",
   "metadata": {},
   "source": [
    "## 5.4 Visualization\n",
    "\n",
    "Plot the merged signals to visually confirm that the alignment is correct."
   ]
  },
  {
   "cell_type": "code",
   "execution_count": null,
   "metadata": {},
   "outputs": [],
   "source": [
    "if session_df is not None:\n",
    "    # Plot the first 60 seconds of the data\n",
    "    plot_duration_s = 60\n",
    "    plot_end_time = session_df.index.min() + pd.Timedelta(seconds=plot_duration_s)\n",
    "    plot_data = session_df.loc[session_df.index.min():plot_end_time]\n",
    "    \n",
    "    fig, ax = plt.subplots(figsize=(20, 8))\n",
    "    plot_data.plot(ax=ax, subplots=True, legend=True)\n",
    "    ax.set_title(f'First {plot_duration_s} Seconds of Merged BRP and PLD Signals')\n",
    "    ax.set_xlabel('Time')\n",
    "    fig.tight_layout()\n",
    "    plt.show()\n"
   ]
  }
 ],
 "metadata": {
  "kernelspec": {
   "display_name": "base",
   "language": "python",
   "name": "python3"
  },
  "language_info": {
   "codemirror_mode": {
    "name": "ipython",
    "version": 3
   },
   "file_extension": ".py",
   "mimetype": "text/x-python",
   "name": "python",
   "nbconvert_exporter": "python",
   "pygments_lexer": "ipython3",
   "version": "3.13.2"
  }
 },
 "nbformat": 4,
 "nbformat_minor": 2
}