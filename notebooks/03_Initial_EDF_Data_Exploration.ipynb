{
 "cells": [
  {
   "cell_type": "markdown",
   "metadata": {},
   "source": [
    "# 3. Initial EDF Data Exploration\n",
    "\n",
    "This notebook focuses on loading and exploring the CPAP data from the EDF files."
   ]
  },
  {
   "cell_type": "markdown",
   "metadata": {},
   "source": [
    "## 3.1 Setup and Data Loading"
   ]
  },
  {
   "cell_type": "code",
   "execution_count": null,
   "metadata": {},
   "outputs": [],
   "source": [
    "import pandas as pd\n",
    "import numpy as np\n",
    "import matplotlib.pyplot as plt\n",
    "import sys\n",
    "import os\n",
    "\n",
    "# Add src directory to Python path to import modules\n",
    "module_path = os.path.abspath(os.path.join('..')) # Assumes notebook is in 'notebooks' directory\n",
    "if module_path not in sys.path:\n",
    "    sys.path.append(module_path)\n",
    "\n",
    "from src.data_loader import load_edf_data, resample_data\n",
    "\n",
    "# Configure plotting\n",
    "plt.rcParams['figure.figsize'] = (15, 5)\n",
    "pd.set_option('display.max_rows', 100)"
   ]
  },
  {
   "cell_type": "code",
   "execution_count": null,
   "metadata": {},
   "outputs": [],
   "source": [
    "# Specify path to your data file\n",
    "edf_data_filepath = '../data/2025/20250617_023551_SA2.edf' # Replace with actual path\n",
    "\n",
    "# Load data using the data_loader module\n",
    "raw_df = load_edf_data(edf_data_filepath)\n",
    "\n",
    "if raw_df is not None:\n",
    "    print(\"Data loaded successfully:\")\n",
    "    raw_df.info()\n",
    "    raw_df.head()\n",
    "else:\n",
    "    print(\"Failed to load data.\")"
   ]
  },
  {
   "cell_type": "markdown",
   "metadata": {},
   "source": [
    "## 3.2 Data Resampling"
   ]
  },
  {
   "cell_type": "code",
   "execution_count": null,
   "metadata": {},
   "outputs": [],
   "source": [
    "SAMPLING_FREQ_HZ = 25 # Target sampling frequency\n",
    "\n",
    "if raw_df is not None:\n",
    "    df_resampled = resample_data(raw_df, target_freq_hz=SAMPLING_FREQ_HZ)\n",
    "    if df_resampled is not None:\n",
    "        print(f\"\\nResampled data to {SAMPLING_FREQ_HZ} Hz:\")\n",
    "        df_resampled.info()\n",
    "        df_resampled.head()\n",
    "    else:\n",
    "        print(\"Resampling failed.\")\n",
    "else:\n",
    "    print(\"Skipping preprocessing as data loading failed.\")"
   ]
  },
  {
   "cell_type": "markdown",
   "metadata": {},
   "source": [
    "## 3.3 Data Visualization"
   ]
  },
  {
   "cell_type": "code",
   "execution_count": null,
   "metadata": {},
   "outputs": [],
   "source": [
    "if 'df_resampled' in locals() and df_resampled is not None:\n",
    "    # Plot to verify\n",
    "    plt.figure(figsize=(15, 8))\n",
    "    ax1 = plt.subplot(211)\n",
    "    df_resampled['Pulse.1s'].plot(label='Pulse', ax=ax1)\n",
    "    ax1.set_title('Pulse Data')\n",
    "    ax1.legend()\n",
    "    \n",
    "    ax2 = plt.subplot(212, sharex=ax1)\n",
    "    df_resampled['SpO2.1s'].plot(label='SpO2', ax=ax2)\n",
    "    ax2.set_title('SpO2 Data')\n",
    "    ax2.legend()\n",
    "    plt.tight_layout()\n",
    "    plt.show()\n",
    "else:\n",
    "    print(\"Skipping visualization as resampling failed or was skipped.\")"
   ]
  }
 ],
 "metadata": {
  "kernelspec": {
   "display_name": "Python 3",
   "language": "python",
   "name": "python3"
  },
  "language_info": {
   "codemirror_mode": {
    "name": "ipython",
    "version": 3
   },
   "file_extension": ".py",
   "mimetype": "text/x-python",
   "name": "python",
   "nbconvert_exporter": "python",
   "pygments_lexer": "ipython3",
   "version": "3.9.7"
  }
 },
 "nbformat": 4,
 "nbformat_minor": 2
}